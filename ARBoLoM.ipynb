{
  "nbformat": 4,
  "nbformat_minor": 0,
  "metadata": {
    "colab": {
      "name": "ARBoLoM.ipynb",
      "provenance": [],
      "collapsed_sections": [],
      "include_colab_link": true
    },
    "kernelspec": {
      "name": "python3",
      "display_name": "Python 3"
    },
    "language_info": {
      "name": "python"
    }
  },
  "cells": [
    {
      "cell_type": "markdown",
      "metadata": {
        "id": "view-in-github",
        "colab_type": "text"
      },
      "source": [
        "<a href=\"https://colab.research.google.com/github/fpaleixo/arbolom/blob/main/ARBoLoM.ipynb\" target=\"_parent\"><img src=\"https://colab.research.google.com/assets/colab-badge.svg\" alt=\"Open In Colab\"/></a>"
      ]
    },
    {
      "cell_type": "markdown",
      "source": [
        "# ARBoLoM - ASP Revision of Boolean Logical Models"
      ],
      "metadata": {
        "id": "LZUu7vZojXhQ"
      }
    },
    {
      "cell_type": "markdown",
      "source": [
        "## Objective\n",
        "\n",
        "The ARBoLoM tool aims to automate the revision of Boolean logical models, with fully Answer Set Programming-based consistency checking and repair algorithms."
      ],
      "metadata": {
        "id": "p5qQ3zaekYbX"
      }
    },
    {
      "cell_type": "markdown",
      "source": [
        "## Quick testing\n",
        "For quick testing, the models in the `simple_models` folder may be used. These are small, hand-made examples of hypothethical biological networks. Due to their compact nature, one can use them to perform quick tests with the scripts, or to manually verify the correctness of the results produced by said scripts.\n",
        "\n",
        "Generally, the models will be used in the following fashion:\n",
        "\n",
        "\n",
        "\n",
        "*   One of the models is chosen to perform tests on.\n",
        "*   The `corruption.py` script can then be used to create a \"wrong\" version of this model.\n",
        "* `conversion.py` is ran on both models, to convert them to .lp format.\n",
        "* `gen_observations.py` is ran on the original .lp model, to generate observations that can be used to check the correctness of the wrong model.\n",
        "* `consistency_checking.py` is then ran on the wrong .lp model, using the observations generated from the original model. This script will tell you if the model is consistent with the given observations or not.\n",
        "* In case it is not, `repair.py` can be used to repair the inconsistent model.\n",
        "\n",
        "(At a later date, a single script should be implemented to automatically convert, check the consistency of, and repair a model written in the .bnet format, given a set of observations in .lp format)."
      ],
      "metadata": {
        "id": "BXK6lph1ZSGA"
      }
    },
    {
      "cell_type": "markdown",
      "source": [
        "# Directory set-up & installing clingo "
      ],
      "metadata": {
        "id": "xBkePQxnjiRC"
      }
    },
    {
      "cell_type": "code",
      "source": [
        "from google.colab import drive\n",
        "drive.mount('/content/drive')"
      ],
      "metadata": {
        "id": "XJonjAoRrO5D"
      },
      "execution_count": null,
      "outputs": []
    },
    {
      "cell_type": "code",
      "source": [
        "#ARBoLoM directory setup, make sure to set it to the arbolom folder (%cd \".../arbolom\")\n",
        "%cd \"/content/drive/MyDrive/FCT/5o ano/2o semestre/arbolom\""
      ],
      "metadata": {
        "id": "t_P7xEVJkvEu"
      },
      "execution_count": null,
      "outputs": []
    },
    {
      "cell_type": "code",
      "source": [
        "#Install clingo\n",
        "!pip install clingo"
      ],
      "metadata": {
        "id": "KxtdlXxPkD8b"
      },
      "execution_count": null,
      "outputs": []
    },
    {
      "cell_type": "markdown",
      "source": [
        "**Note**: Alternatively, it should be possible to set up the directory without connecting to a Google Drive. To do this, zip the downloaded arbolom directory, upload the .zip to Colab, and use the `!unzip filename.zip` command to unzip (replacing filename with the appropriate name). More info [here](https://stackoverflow.com/a/56458316). "
      ],
      "metadata": {
        "id": "6oo9xXMoaRRn"
      }
    },
    {
      "cell_type": "markdown",
      "source": [
        "# Running scripts"
      ],
      "metadata": {
        "id": "iuSq6cCVkF_a"
      }
    },
    {
      "cell_type": "code",
      "source": [
        "#Usage: $python corruption.py -f (FILENAME) -op (OPERATIONS) -(O)p (PROBABILITY)\n",
        "#Variables: \n",
        "#FILENAME -> Path of file inside simple models folder to corrupt.\n",
        "#OPERATIONS -> A string with one (or more) specific characters, denoting which corruptions to apply. These characters are 'f','e','r' and 'a'. 'fera' would be the full string, representing that (f)unction change, (e)dge flip, edge (r)emove and edge (a)dd will all be applied.\n",
        "#O -> A character that can take one of four possible values: 'f','e','r' and 'a' (followed by 'p'). -fp would change the probability of function change to occur, -ep of edge removal, etc. The argument that uses this O variable is an optional one.\n",
        "#PROBABILITY -> A float from 0.0 to 1.0 denoting the probability of a given corruption to occur. For example, -ap 0.5 would change the add edge operation's probability to 50%\n",
        "\n",
        "!python corruption.py -op era -ep 0.5 -rp 0.5 -ap 0.5 -f \"simple_models/1.bnet\" "
      ],
      "metadata": {
        "id": "Yx7JqSIz4wek"
      },
      "execution_count": null,
      "outputs": []
    },
    {
      "cell_type": "code",
      "source": [
        "#Usage: $python conversion.py -f (FILENAME) -s (SAVE_DIRECTORY)\n",
        "#Optional flags:\n",
        "#-s -> Path of directory to save converted file (default is ./lp_models/corrupted/(name_of_file))\n",
        "#Variables: \n",
        "#FILENAME -> Path of file containing Boolean model in the BCF format to convert to ASP.\n",
        "#SAVE_DIRECTORY -> Path of directory to save converted model to.\n",
        "\n",
        "!python conversion.py -f \"simple_models/corrupted/1/1-corrupted-era.bnet\""
      ],
      "metadata": {
        "id": "RvcaVZlkbPy7"
      },
      "execution_count": null,
      "outputs": []
    },
    {
      "cell_type": "code",
      "source": [
        "#Usage: $python gen_observations.py -f (FILENAME) -async -e (NUMBER OF EXPERIMENTS) -t (TIME STEPS) -as (NUMBER OF ANSWER SETS)\n",
        "#Optional flags:\n",
        "#-async -> Produces observations using the asynchronous mode.\n",
        "#Variables:\n",
        "#FILENAME -> Path of file containing Boolean model in the BCF format written in lp.\n",
        "#NUMBER OF EXPERIMENTS -> The number of experiments (sets of observations) to generate.\n",
        "#TIME STEPS -> The number of time steps to consider in each experiment.\n",
        "#NUMBER OF ANSWER SETS -> The number of answer sets to obtain.\n",
        "\n",
        "!python gen_observations.py -f \"simple_models/lp/4.lp\" -async -t 10 -e 2"
      ],
      "metadata": {
        "id": "QevrPuKGkBlw"
      },
      "execution_count": null,
      "outputs": []
    },
    {
      "cell_type": "code",
      "source": [
        "#Usage: $python consistency_checking.py -f (FILENAME) -o (OBSERVATIONS) -stable -sync -async \n",
        "#Optional flags:\n",
        "#-stable -> Performs consistency checking using stable state observations.\n",
        "#-sync -> Performs consistency checking using synchronous observations.\n",
        "#-async -> Performs consistency checking using asynchronous observations.\n",
        "#Variables:\n",
        "#FILENAME -> Path of file containing Boolean model in the BCF format written in lp.\n",
        "#OBSERVATIONS -> Path of file containing observations written in lp. \n",
        "\n",
        "!python consistency_checking.py -f \"simple_models/lp/corrupted/3/3-corrupted-f.lp\" -o \"simple_models/lp/observations/tseries/sync/3-obs.lp\" -sync"
      ],
      "metadata": {
        "id": "jvqy753Rs4nJ"
      },
      "execution_count": null,
      "outputs": []
    },
    {
      "cell_type": "code",
      "source": [
        "#Usage: $python repair.py -f (FILENAME) -o (OBSERVATIONS) -i (INCONSISTENCIES) -stable -sync -async\n",
        "#Optional flags:\n",
        "#-stable -> Performs repairs using stable state observations (default).\n",
        "#-sync -> Performs repairs using synchronous observations.\n",
        "#-async -> Performs repairs using asynchronous observations.\n",
        "#Variables:\n",
        "#FILENAME -> Path of file containing Boolean model in the BCF format written in lp.\n",
        "#OBSERVATIONS -> Path of file containing observations written in lp. \n",
        "#INCONSISTENCIES -> Path of file containing inconsistencies obtained from the consistency checking phase.\n",
        "\n",
        "!python repair.py -f \"simple_models/lp/corrupted/3/3-corrupted-f.lp\" -o \"simple_models/lp/observations/tseries/sync/3-obs.lp\" -i \"simple_models/lp/corrupted/3/inconsistencies/3-corrupted-f-sync_inconsistency.lp\" -sync"
      ],
      "metadata": {
        "id": "8tk0pnzehHTR"
      },
      "execution_count": null,
      "outputs": []
    }
  ]
}