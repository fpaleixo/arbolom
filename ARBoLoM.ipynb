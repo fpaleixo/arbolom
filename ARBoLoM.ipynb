{
  "nbformat": 4,
  "nbformat_minor": 0,
  "metadata": {
    "colab": {
      "name": "ARBoLoM.ipynb",
      "provenance": [],
      "collapsed_sections": [],
      "mount_file_id": "1c6RwN8jmnPvHOZNoRPwo8gChIVhKZzzL",
      "authorship_tag": "ABX9TyNh5qlSjQckS+2bVFAe2aj6",
      "include_colab_link": true
    },
    "kernelspec": {
      "name": "python3",
      "display_name": "Python 3"
    },
    "language_info": {
      "name": "python"
    }
  },
  "cells": [
    {
      "cell_type": "markdown",
      "metadata": {
        "id": "view-in-github",
        "colab_type": "text"
      },
      "source": [
        "<a href=\"https://colab.research.google.com/github/fpaleixo/arbolom/blob/main/ARBoLoM.ipynb\" target=\"_parent\"><img src=\"https://colab.research.google.com/assets/colab-badge.svg\" alt=\"Open In Colab\"/></a>"
      ]
    },
    {
      "cell_type": "code",
      "execution_count": null,
      "metadata": {
        "id": "xdnA6YSFinCs",
        "cellView": "form"
      },
      "outputs": [],
      "source": [
        "#@title ASP Revision of Boolean Logical Models\n",
        "\n",
        "#Notebook by Frederico Aleixo"
      ]
    },
    {
      "cell_type": "code",
      "source": [
        "#@title ARBoLoM directory setup\n",
        "%cd \"/content/drive/MyDrive/FCT/5o ano/2o semestre/arbolom\""
      ],
      "metadata": {
        "id": "t_P7xEVJkvEu",
        "colab": {
          "base_uri": "https://localhost:8080/"
        },
        "outputId": "0485e276-0052-4963-b1d2-687e5453e502"
      },
      "execution_count": 1,
      "outputs": [
        {
          "output_type": "stream",
          "name": "stdout",
          "text": [
            "/content/drive/MyDrive/FCT/5o ano/2o semestre/arbolom\n"
          ]
        }
      ]
    },
    {
      "cell_type": "code",
      "source": [
        "#@title Install clingo\n",
        "!pip install clingo"
      ],
      "metadata": {
        "cellView": "form",
        "id": "KxtdlXxPkD8b",
        "colab": {
          "base_uri": "https://localhost:8080/"
        },
        "outputId": "ec2938c0-ec15-4222-cfb4-59d95aac8ea1"
      },
      "execution_count": 3,
      "outputs": [
        {
          "output_type": "stream",
          "name": "stdout",
          "text": [
            "Collecting clingo\n",
            "  Downloading clingo-5.5.1-cp37-cp37m-manylinux_2_17_x86_64.manylinux2014_x86_64.whl (2.2 MB)\n",
            "\u001b[K     |████████████████████████████████| 2.2 MB 12.0 MB/s \n",
            "\u001b[?25hRequirement already satisfied: cffi in /usr/local/lib/python3.7/dist-packages (from clingo) (1.15.0)\n",
            "Requirement already satisfied: pycparser in /usr/local/lib/python3.7/dist-packages (from cffi->clingo) (2.21)\n",
            "Installing collected packages: clingo\n",
            "Successfully installed clingo-5.5.1\n"
          ]
        }
      ]
    },
    {
      "cell_type": "code",
      "source": [
        "#Usage: !python corruption.py -f (FILENAME) -op (OPERATIONS) -(O)p (PROBABILITY)\n",
        "#Variables: \n",
        "#FILENAME - Name of the file with the model to corrupt\n",
        "#OPERATIONS - A string with one (or more) specific characters, denoting which corruptions to apply. These characters are 'f','e','r' and 'a'. 'fera' would be the full string, representing that (f)unction change, (e)dge flip, edge (r)emove and edge (a)dd will all be applied.\n",
        "#O - A character that can take one of four possible values: 'f','e','r' and 'a' (followed by 'p'). -fp would change the probability of function change to occur, -ep of edge removal, etc\n",
        "#PROBABILITY - A float from 0.0 to 1.0 denoting the probability of a given corruption to occur. For example, -ap 0.5 would change the add edge operation's probability to 50%\n",
        "\n",
        "!python corruption.py -op fra -f \"./simple_models/9.bnet\" "
      ],
      "metadata": {
        "id": "Yx7JqSIz4wek"
      },
      "execution_count": null,
      "outputs": []
    },
    {
      "cell_type": "code",
      "source": [
        "#Usage: !python conversion.py -f (FILENAME)\n",
        "#Variables: \n",
        "#FILENAME - Path of file containing Boolean model in the BCF format to convert to ASP.\n",
        "\n",
        "!python conversion.py -f \"./simple_models/9-corrupted (1).bnet\""
      ],
      "metadata": {
        "id": "RvcaVZlkbPy7"
      },
      "execution_count": null,
      "outputs": []
    },
    {
      "cell_type": "code",
      "source": [
        "#Usage: $python gen_observations.py -f (FILENAME) -async -e (NUMBER OF EXPERIMENTS) -t (TIME STEPS) -as (NUMBER OF ANSWER SETS)\n",
        "#Optional flags:\n",
        "#-async: Produces observations using the asynchronous mode.\n",
        "#Variables:\n",
        "#FILENAME - Path of file containing Boolean model in the BCF format written in lp.\n",
        "#NUMBER OF EXPERIMENTS - The number of experiments (sets of observations) to generate.\n",
        "#TIME STEPS - The number of time steps to consider in each experiment.\n",
        "#NUMBER OF ANSWER SETS - The number of answer sets to obtain.\n",
        "\n",
        "!python gen_observations.py -f \"./lp_models/4.lp\" -async -t 10 -e 2"
      ],
      "metadata": {
        "id": "QevrPuKGkBlw"
      },
      "execution_count": null,
      "outputs": []
    },
    {
      "cell_type": "code",
      "source": [
        "#Usage: $python consistency_checking.py -f (FILENAME) -o (OBSERVATIONS) -stable -sync -async \n",
        "#Optional flags:\n",
        "#-stable -> Performs consistency checking using stable state observations.\n",
        "#-sync -> Performs consistency checking using synchronous observations.\n",
        "#-async -> Performs consistency checking using asynchronous observations.\n",
        "#Variables:\n",
        "#FILENAME -> Path of file containing Boolean model in the BCF format written in lp.\n",
        "#OBSERVATIONS -> Path of file containing observations written in lp. \n",
        "\n",
        "!python consistency_checking.py -f \"./lp_models/1-corrupted.lp\" -o \"./lp_models/obsv/sstate/1-obs.lp\" -stable"
      ],
      "metadata": {
        "id": "jvqy753Rs4nJ"
      },
      "execution_count": null,
      "outputs": []
    }
  ]
}