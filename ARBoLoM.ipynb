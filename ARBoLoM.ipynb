{
  "nbformat": 4,
  "nbformat_minor": 0,
  "metadata": {
    "colab": {
      "name": "ARBoLoM.ipynb",
      "provenance": [],
      "collapsed_sections": [],
      "mount_file_id": "1c6RwN8jmnPvHOZNoRPwo8gChIVhKZzzL",
      "authorship_tag": "ABX9TyM1E662PQyaWw3czLLDIDGz",
      "include_colab_link": true
    },
    "kernelspec": {
      "name": "python3",
      "display_name": "Python 3"
    },
    "language_info": {
      "name": "python"
    }
  },
  "cells": [
    {
      "cell_type": "markdown",
      "metadata": {
        "id": "view-in-github",
        "colab_type": "text"
      },
      "source": [
        "<a href=\"https://colab.research.google.com/github/fpaleixo/arbolom/blob/main/ARBoLoM.ipynb\" target=\"_parent\"><img src=\"https://colab.research.google.com/assets/colab-badge.svg\" alt=\"Open In Colab\"/></a>"
      ]
    },
    {
      "cell_type": "code",
      "execution_count": null,
      "metadata": {
        "id": "xdnA6YSFinCs",
        "cellView": "form"
      },
      "outputs": [],
      "source": [
        "#@title ASP Revision of Boolean Logical Models\n",
        "\n",
        "#Notebook by Frederico Aleixo"
      ]
    },
    {
      "cell_type": "code",
      "source": [
        "#@title ARBoLoM directory setup\n",
        "%cd \"/content/drive/MyDrive/FCT/5o ano/2o semestre/arbolom\""
      ],
      "metadata": {
        "id": "t_P7xEVJkvEu",
        "cellView": "form"
      },
      "execution_count": null,
      "outputs": []
    },
    {
      "cell_type": "code",
      "source": [
        "#@title Install clingo\n",
        "!pip install clingo"
      ],
      "metadata": {
        "cellView": "form",
        "id": "KxtdlXxPkD8b"
      },
      "execution_count": null,
      "outputs": []
    },
    {
      "cell_type": "code",
      "source": [
        "#Usage: !python corruption.py -f (FILENAME) -op (OPERATIONS) -(O)p (PROBABILITY)\n",
        "#Variables: \n",
        "#FILENAME - Name of the file with the model to corrupt\n",
        "#OPERATIONS - A string with one (or more) specific characters, denoting which corruptions to apply. These characters are 'f','e','r' and 'a'. 'fera' would be the full string, representing that (f)unction change, (e)dge flip, edge (r)emove and edge (a)dd will all be applied.\n",
        "#O - A character that can take one of four possible values: 'f','e','r' and 'a' (followed by 'p'). -fp would change the probability of function change to occur, -ep of edge removal, etc\n",
        "#PROBABILITY - A float from 0.0 to 1.0 denoting the probability of a given corruption to occur. For example, -ap 0.5 would change the add edge operation's probability to 50%\n",
        "\n",
        "!python corruption.py -op fra -f \"/content/drive/MyDrive/FCT/5o ano/2o semestre/arbolom/simple_models/9.bnet\" "
      ],
      "metadata": {
        "id": "Yx7JqSIz4wek"
      },
      "execution_count": null,
      "outputs": []
    },
    {
      "cell_type": "code",
      "source": [
        "#Usage: !python conversion.py -f (FILENAME)\n",
        "#Variables: \n",
        "#FILENAME - Path of file containing Boolean model in the BCF format to convert to ASP.\n",
        "!python conversion.py -f \"/content/drive/MyDrive/FCT/5o ano/2o semestre/arbolom/simple_models/9-corrupted (1).bnet\""
      ],
      "metadata": {
        "id": "RvcaVZlkbPy7"
      },
      "execution_count": null,
      "outputs": []
    },
    {
      "cell_type": "code",
      "source": [
        "import os, glob, clingo, re\n",
        "from clingo.application import ApplicationOptions\n",
        "\n",
        "#TODO - test correctness, support cmd line paths, get uniquify on the common.py\n",
        "\n",
        "#-----Configs-----\n",
        "generate_sync = False\n",
        "\n",
        "observation_number = \"2\"\n",
        "time_steps = \"5\"\n",
        "models_to_obtain = \"1\"\n",
        "\n",
        "model_path = \"./lp_models/1.lp\"\n",
        "\n",
        "sync_path = \"./encodings/sync_observations.lp\"\n",
        "async_path = \"./encodings/async_observations.lp\"\n",
        "\n",
        "save_sync = \"./lp_models/obsv/tseries/sync\"\n",
        "save_async = \"./lp_models/obsv/tseries/async\"\n",
        "\n",
        "\n",
        "#-----Auxiliary Functions-----\n",
        "\n",
        "#Input: Desired path\n",
        "#Purpose: Returns given path if it doesn't exist yet, otherwise creates a\n",
        "#new path with (1) or (2) or ... (n), depending on how many files have already been created with that path name \n",
        "def uniquify(path):\n",
        "    filename, extension = os.path.splitext(path)\n",
        "    counter = 1\n",
        "\n",
        "    while os.path.exists(path):\n",
        "        path = filename + \" (\" + str(counter) + \")\" + extension\n",
        "        counter += 1\n",
        "\n",
        "    return path\n",
        "\n",
        "\n",
        "def on_model(m):\n",
        "    print (m)\n",
        "\n",
        "\n",
        "def saveObsToFile(atoms):\n",
        "    experiments_observations = {}\n",
        "    current_answer_set = 0\n",
        "\n",
        "    answer_set_finished = False\n",
        "\n",
        "    origin_path = None\n",
        "    if generate_sync:\n",
        "      origin_path = os.path.join(save_sync, os.path.basename(model_path).replace(\".lp\", \"-obs.lp\"))\n",
        "    else:\n",
        "      origin_path = os.path.join(save_async, os.path.basename(model_path).replace(\".lp\", \"-obs.lp\"))\n",
        "    current_path = origin_path\n",
        "    \n",
        "    for atom in atoms:\n",
        "        if \"experiment\" in atom:\n",
        "\n",
        "            if answer_set_finished:\n",
        "              current_answer_set += 1\n",
        "              answer_set_finished = False\n",
        "              \n",
        "\n",
        "            exp_num = ''.join(d for d in atom if d.isdigit())\n",
        "\n",
        "            if current_answer_set not in experiments_observations.keys():\n",
        "              experiments_observations[current_answer_set] = {}\n",
        "        \n",
        "            experiments_observations[current_answer_set][exp_num] = [atom]\n",
        "        \n",
        "        elif \"observation\" in atom:\n",
        "\n",
        "            answer_set_finished = True\n",
        "\n",
        "            terms = re.search('\\((.*)\\)', atom).group(1)\n",
        "            terms = terms.split(',')\n",
        "            experiments_observations[current_answer_set][terms[0]] += [atom]\n",
        "\n",
        "    for answer_set in range(0,current_answer_set+1):\n",
        "      f = open(current_path, 'w')\n",
        "      for item in experiments_observations[answer_set].items():\n",
        "          sorted_atoms = sorted(item[1])\n",
        "          for atom in sorted_atoms:\n",
        "              f.write(atom+\".\\n\")\n",
        "          f.write(\"\\n\")\n",
        "      f.close()\n",
        "      current_path = uniquify(origin_path)\n",
        "\n",
        "\n",
        "#-----Main-----\n",
        "\n",
        "ctl = clingo.Control(arguments=[\"-c e=\" + observation_number, \"-c t=\" + time_steps, \" \" + models_to_obtain])\n",
        "\n",
        "ctl.load(model_path)\n",
        "\n",
        "if generate_sync:\n",
        "  ctl.load(sync_path)\n",
        "else:\n",
        "  ctl.load(async_path)\n",
        "\n",
        "ctl.ground([(\"base\", [])])\n",
        "atoms = []\n",
        "with ctl.solve(yield_=True) as handle:\n",
        "        for model in handle:\n",
        "            print(model)\n",
        "            atoms += (str(model).split(\" \"))\n",
        "\n",
        "print(atoms)\n",
        "saveObsToFile(atoms)\n"
      ],
      "metadata": {
        "id": "QevrPuKGkBlw"
      },
      "execution_count": null,
      "outputs": []
    }
  ]
}