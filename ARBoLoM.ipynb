{
  "nbformat": 4,
  "nbformat_minor": 0,
  "metadata": {
    "colab": {
      "name": "ARBoLoM.ipynb",
      "provenance": [],
      "collapsed_sections": [],
      "mount_file_id": "1c6RwN8jmnPvHOZNoRPwo8gChIVhKZzzL",
      "authorship_tag": "ABX9TyN6/G9ESnrb/XKDN6VvTah/",
      "include_colab_link": true
    },
    "kernelspec": {
      "name": "python3",
      "display_name": "Python 3"
    },
    "language_info": {
      "name": "python"
    }
  },
  "cells": [
    {
      "cell_type": "markdown",
      "metadata": {
        "id": "view-in-github",
        "colab_type": "text"
      },
      "source": [
        "<a href=\"https://colab.research.google.com/github/fpaleixo/arbolom/blob/main/ARBoLoM.ipynb\" target=\"_parent\"><img src=\"https://colab.research.google.com/assets/colab-badge.svg\" alt=\"Open In Colab\"/></a>"
      ]
    },
    {
      "cell_type": "code",
      "execution_count": null,
      "metadata": {
        "id": "xdnA6YSFinCs",
        "cellView": "form"
      },
      "outputs": [],
      "source": [
        "#@title ASP Revision of Boolean Logical Models\n",
        "\n",
        "#Notebook by Frederico Aleixo"
      ]
    },
    {
      "cell_type": "code",
      "source": [
        "#@title ARBoLoM directory setup\n",
        "%cd \"/content/drive/MyDrive/FCT/5o ano/2o semestre/arbolom\""
      ],
      "metadata": {
        "id": "t_P7xEVJkvEu",
        "cellView": "form"
      },
      "execution_count": null,
      "outputs": []
    },
    {
      "cell_type": "code",
      "source": [
        "#@title Install clingo\n",
        "!pip install clingo"
      ],
      "metadata": {
        "cellView": "form",
        "id": "KxtdlXxPkD8b"
      },
      "execution_count": null,
      "outputs": []
    },
    {
      "cell_type": "code",
      "source": [
        "#Usage: !python corruption.py -f (FILENAME) -op (OPERATIONS) -(O)p (PROBABILITY)\n",
        "#Variables: \n",
        "#FILENAME - Name of the file with the model to corrupt\n",
        "#OPERATIONS - A string with one (or more) specific characters, denoting which corruptions to apply. These characters are 'f','e','r' and 'a'. 'fera' would be the full string, representing that (f)unction change, (e)dge flip, edge (r)emove and edge (a)dd will all be applied.\n",
        "#O - A character that can take one of four possible values: 'f','e','r' and 'a' (followed by 'p'). -fp would change the probability of function change to occur, -ep of edge removal, etc\n",
        "#PROBABILITY - A float from 0.0 to 1.0 denoting the probability of a given corruption to occur. For example, -ap 0.5 would change the add edge operation's probability to 50%\n",
        "\n",
        "!python corruption.py -op fra -f \"/content/drive/MyDrive/FCT/5o ano/2o semestre/arbolom/simple_models/9.bnet\" "
      ],
      "metadata": {
        "id": "Yx7JqSIz4wek"
      },
      "execution_count": null,
      "outputs": []
    },
    {
      "cell_type": "code",
      "source": [
        "#Usage: !python conversion.py -f (FILENAME)\n",
        "#Variables: \n",
        "#FILENAME - Path of file containing Boolean model in the BCF format to convert to ASP.\n",
        "!python conversion.py -f \"/content/drive/MyDrive/FCT/5o ano/2o semestre/arbolom/simple_models/9-corrupted (1).bnet\""
      ],
      "metadata": {
        "id": "RvcaVZlkbPy7"
      },
      "execution_count": null,
      "outputs": []
    },
    {
      "cell_type": "code",
      "source": [
        "import os, glob, clingo\n",
        "from clingo.application import ApplicationOptions\n",
        "#TODO: make output from model more readable; check correction; output observations to file\n",
        "#-----Configs-----\n",
        "observation_number = \"2\"\n",
        "time_steps = \"3\"\n",
        "model_path = \"./lp_models/1.lp\"\n",
        "ss_path = \"./encodings/gen_observations.lp\"\n",
        "\n",
        "\n",
        "\n",
        "#-----Auxiliary Functions-----\n",
        "\n",
        "def on_model(m):\n",
        "  print(m)\n",
        "\n",
        "\n",
        "\n",
        "#-----Main-----\n",
        "\n",
        "ctl = clingo.Control(arguments=[\"-c e=\" + observation_number, \"-c t=\" + time_steps])\n",
        "\n",
        "ctl.load(model_path)\n",
        "ctl.load(ss_path)\n",
        "ctl.ground([(\"base\", [])])\n",
        "ctl.solve(on_model=on_model)\n",
        "\n"
      ],
      "metadata": {
        "colab": {
          "base_uri": "https://localhost:8080/"
        },
        "id": "QevrPuKGkBlw",
        "outputId": "e20a759d-1a52-4efd-f18a-9611e9bfadad"
      },
      "execution_count": 19,
      "outputs": [
        {
          "output_type": "stream",
          "name": "stdout",
          "text": [
            "observation(1,0,v1,0) observation(1,0,v3,0) observation(2,0,v3,0) observation(1,0,v2,1) observation(2,0,v1,1) observation(2,0,v2,1) observation(1,1,v1,1) observation(1,3,v1,1) observation(2,1,v1,1) observation(2,3,v1,1) observation(1,2,v2,1) observation(2,2,v2,1) observation(2,1,v3,1) observation(1,1,v2,0) observation(1,1,v3,0) observation(1,2,v1,0) observation(1,2,v3,0) observation(1,3,v2,0) observation(1,3,v3,0) observation(2,1,v2,0) observation(2,2,v1,0) observation(2,2,v3,0) observation(2,3,v2,0) observation(2,3,v3,0)\n"
          ]
        },
        {
          "output_type": "execute_result",
          "data": {
            "text/plain": [
              "SolveResult(1)"
            ]
          },
          "metadata": {},
          "execution_count": 19
        }
      ]
    }
  ]
}