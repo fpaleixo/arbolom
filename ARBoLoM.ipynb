{
  "nbformat": 4,
  "nbformat_minor": 0,
  "metadata": {
    "colab": {
      "name": "ARBoLoM.ipynb",
      "provenance": [],
      "collapsed_sections": [],
      "include_colab_link": true
    },
    "kernelspec": {
      "name": "python3",
      "display_name": "Python 3"
    },
    "language_info": {
      "name": "python"
    }
  },
  "cells": [
    {
      "cell_type": "markdown",
      "metadata": {
        "id": "view-in-github",
        "colab_type": "text"
      },
      "source": [
        "<a href=\"https://colab.research.google.com/github/fpaleixo/arbolom/blob/main/ARBoLoM.ipynb\" target=\"_parent\"><img src=\"https://colab.research.google.com/assets/colab-badge.svg\" alt=\"Open In Colab\"/></a>"
      ]
    },
    {
      "cell_type": "markdown",
      "source": [
        "# ARBoLoM - ASP Revision of Boolean Logical Models"
      ],
      "metadata": {
        "id": "LZUu7vZojXhQ"
      }
    },
    {
      "cell_type": "markdown",
      "source": [
        "## - Goal\n",
        "\n",
        "The ARBoLoM tool aims to automate the revision of Boolean logical models, with fully Answer Set Programming-based consistency checking and repair algorithms."
      ],
      "metadata": {
        "id": "p5qQ3zaekYbX"
      }
    },
    {
      "cell_type": "markdown",
      "source": [
        "# Directory set-up & installing clingo "
      ],
      "metadata": {
        "id": "xBkePQxnjiRC"
      }
    },
    {
      "cell_type": "code",
      "source": [
        "from google.colab import drive\n",
        "drive.mount('/content/drive')"
      ],
      "metadata": {
        "id": "XJonjAoRrO5D"
      },
      "execution_count": null,
      "outputs": []
    },
    {
      "cell_type": "code",
      "source": [
        "#ARBoLoM directory setup, make sure to set it to the arbolom folder (%cd \".../arbolom\")\n",
        "%cd \"/content/drive/MyDrive/FCT/5o ano/2o semestre/arbolom\""
      ],
      "metadata": {
        "id": "t_P7xEVJkvEu",
        "colab": {
          "base_uri": "https://localhost:8080/"
        },
        "outputId": "cfcf76b8-0458-4cbc-e8a2-95dff6732047"
      },
      "execution_count": 1,
      "outputs": [
        {
          "output_type": "stream",
          "name": "stdout",
          "text": [
            "/content/drive/MyDrive/FCT/5o ano/2o semestre/arbolom\n"
          ]
        }
      ]
    },
    {
      "cell_type": "code",
      "source": [
        "#Install clingo\n",
        "!pip install clingo"
      ],
      "metadata": {
        "id": "KxtdlXxPkD8b"
      },
      "execution_count": null,
      "outputs": []
    },
    {
      "cell_type": "markdown",
      "source": [
        "# Running scripts"
      ],
      "metadata": {
        "id": "iuSq6cCVkF_a"
      }
    },
    {
      "cell_type": "code",
      "source": [
        "#Usage: $python corruption.py -f (FILENAME) -op (OPERATIONS) -(O)p (PROBABILITY)\n",
        "#Variables: \n",
        "#FILENAME -> Path of file inside simple models folder to corrupt.\n",
        "#OPERATIONS -> A string with one (or more) specific characters, denoting which corruptions to apply. These characters are 'f','e','r' and 'a'. 'fera' would be the full string, representing that (f)unction change, (e)dge flip, edge (r)emove and edge (a)dd will all be applied.\n",
        "#O -> A character that can take one of four possible values: 'f','e','r' and 'a' (followed by 'p'). -fp would change the probability of function change to occur, -ep of edge removal, etc. The argument that uses this O variable is an optional one.\n",
        "#PROBABILITY -> A float from 0.0 to 1.0 denoting the probability of a given corruption to occur. For example, -ap 0.5 would change the add edge operation's probability to 50%\n",
        "\n",
        "!python corruption.py -op era -ep 0.5 -rp 0.5 -ap 0.5 -f \"./simple_models/1.bnet\" "
      ],
      "metadata": {
        "id": "Yx7JqSIz4wek"
      },
      "execution_count": null,
      "outputs": []
    },
    {
      "cell_type": "code",
      "source": [
        "#Usage: $python conversion.py -f (FILENAME) -s (SAVE_DIRECTORY)\n",
        "#Optional flags:\n",
        "#-s -> Path of directory to save converted file (default is ./lp_models/corrupted/(name_of_file))\n",
        "#Variables: \n",
        "#FILENAME -> Path of file containing Boolean model in the BCF format to convert to ASP.\n",
        "#SAVE_DIRECTORY -> Path of directory to save converted model to.\n",
        "\n",
        "!python conversion.py -f \"./simple_models/corrupted/1/1-corrupted-era.bnet\""
      ],
      "metadata": {
        "id": "RvcaVZlkbPy7"
      },
      "execution_count": null,
      "outputs": []
    },
    {
      "cell_type": "code",
      "source": [
        "#Usage: $python gen_observations.py -f (FILENAME) -async -e (NUMBER OF EXPERIMENTS) -t (TIME STEPS) -as (NUMBER OF ANSWER SETS)\n",
        "#Optional flags:\n",
        "#-async -> Produces observations using the asynchronous mode.\n",
        "#Variables:\n",
        "#FILENAME -> Path of file containing Boolean model in the BCF format written in lp.\n",
        "#NUMBER OF EXPERIMENTS -> The number of experiments (sets of observations) to generate.\n",
        "#TIME STEPS -> The number of time steps to consider in each experiment.\n",
        "#NUMBER OF ANSWER SETS -> The number of answer sets to obtain.\n",
        "\n",
        "!python gen_observations.py -f \"simple_models/lp/4.lp\" -async -t 10 -e 2"
      ],
      "metadata": {
        "id": "QevrPuKGkBlw"
      },
      "execution_count": null,
      "outputs": []
    },
    {
      "cell_type": "code",
      "source": [
        "#Usage: $python consistency_checking.py -f (FILENAME) -o (OBSERVATIONS) -stable -sync -async \n",
        "#Optional flags:\n",
        "#-stable -> Performs consistency checking using stable state observations.\n",
        "#-sync -> Performs consistency checking using synchronous observations.\n",
        "#-async -> Performs consistency checking using asynchronous observations.\n",
        "#Variables:\n",
        "#FILENAME -> Path of file containing Boolean model in the BCF format written in lp.\n",
        "#OBSERVATIONS -> Path of file containing observations written in lp. \n",
        "\n",
        "!python consistency_checking.py -f \"simple_models/lp/corrupted/3/3-corrupted-f.lp\" -o \"simple_models/lp/observations/tseries/sync/3-obs.lp\" -sync"
      ],
      "metadata": {
        "id": "jvqy753Rs4nJ"
      },
      "execution_count": null,
      "outputs": []
    },
    {
      "cell_type": "code",
      "source": [
        "#Usage: $python repair.py -f (FILENAME) -o (OBSERVATIONS) -i (INCONSISTENCIES) -stable -sync -async -nf\n",
        "#Optional flags:\n",
        "#-stable -> Performs repairs using stable state observations (default).\n",
        "#-sync -> Performs repairs using synchronous observations.\n",
        "#-async -> Performs repairs using asynchronous observations.\n",
        "#-nf -> Disables candidate function filtering (useful to obtain all candidates)\n",
        "#Variables:\n",
        "#FILENAME -> Path of file containing Boolean model in the BCF format written in lp.\n",
        "#OBSERVATIONS -> Path of file containing observations written in lp. \n",
        "#INCONSISTENCIES -> Path of file containing inconsistencies obtained from the consistency checking phase.\n",
        "\n",
        "#FOR COLAB USERS: the comb() function is not available in Colab, since it runs Python 3.6 instead of 3.8. \n",
        "#One alternative would be to import scipy's comb function, but that seems to stop the script from working altogether.\n",
        "#Instead, replace the comb import line in repair.py with this to make it work:\n",
        "'''\n",
        "import operator as op\n",
        "from functools import reduce\n",
        "def comb(n, r):\n",
        "    r = min(r, n-r)\n",
        "    numer = reduce(op.mul, range(n, n-r, -1), 1)\n",
        "    denom = reduce(op.mul, range(1, r+1), 1)\n",
        "    return numer // denom \n",
        "'''\n",
        "!python repair.py -f \"simple_models/lp/corrupted/3/3-corrupted-f.lp\" -o \"simple_models/lp/observations/tseries/sync/3-obs.lp\" -i \"simple_models/lp/corrupted/3/inconsistencies/3-corrupted-f-sync_inconsistency.lp\" -sync"
      ],
      "metadata": {
        "id": "8tk0pnzehHTR"
      },
      "execution_count": null,
      "outputs": []
    }
  ]
}