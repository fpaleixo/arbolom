{
  "nbformat": 4,
  "nbformat_minor": 0,
  "metadata": {
    "colab": {
      "name": "ARBoLoM.ipynb",
      "provenance": [],
      "mount_file_id": "1c6RwN8jmnPvHOZNoRPwo8gChIVhKZzzL",
      "authorship_tag": "ABX9TyNq9BE50SaAMStMZJ/Qpqgl",
      "include_colab_link": true
    },
    "kernelspec": {
      "name": "python3",
      "display_name": "Python 3"
    },
    "language_info": {
      "name": "python"
    }
  },
  "cells": [
    {
      "cell_type": "markdown",
      "metadata": {
        "id": "view-in-github",
        "colab_type": "text"
      },
      "source": [
        "<a href=\"https://colab.research.google.com/github/fpaleixo/arbolom/blob/main/ARBoLoM.ipynb\" target=\"_parent\"><img src=\"https://colab.research.google.com/assets/colab-badge.svg\" alt=\"Open In Colab\"/></a>"
      ]
    },
    {
      "cell_type": "code",
      "execution_count": null,
      "metadata": {
        "id": "xdnA6YSFinCs"
      },
      "outputs": [],
      "source": [
        "#ASP Revision of Boolean Logical Models"
      ]
    },
    {
      "cell_type": "code",
      "source": [
        "%cd \"/content/drive/MyDrive/FCT/5o ano/2o semestre/arbolom\"\n",
        "!pwd"
      ],
      "metadata": {
        "colab": {
          "base_uri": "https://localhost:8080/"
        },
        "id": "t_P7xEVJkvEu",
        "outputId": "dc33c201-1cd2-4bf2-e3e7-8c94dd8f782d"
      },
      "execution_count": 1,
      "outputs": [
        {
          "output_type": "stream",
          "name": "stdout",
          "text": [
            "/content/drive/MyDrive/FCT/5o ano/2o semestre/arbolom\n",
            "/content/drive/MyDrive/FCT/5o ano/2o semestre/arbolom\n"
          ]
        }
      ]
    },
    {
      "cell_type": "code",
      "source": [
        "import os\n",
        "import sys\n",
        "import glob\n",
        "import random\n",
        "\n",
        "path= './simple_models/'\n",
        "\n",
        "\n",
        "#Receives a list of implicants as input. Returns a list of prime implicants.\n",
        "def primesOnly(implicants):\n",
        "  original = implicants.copy()\n",
        "  copy = [set(i.strip(\"()\").split('&')) for i in implicants] \n",
        "  #print(\"Processed input\" + str(copy))\n",
        "\n",
        "  output = []\n",
        "  changed_input = []\n",
        "\n",
        "  for i in range(0, len(implicants)):\n",
        "    if(copy[i]==''): continue #if i has already been marked as a non-prime, go to the next implicant\n",
        "\n",
        "    for j in range(i+1, len(implicants)):\n",
        "      if(copy[j]==''): continue #if j has already been marked as a non-prime, go to the next implicant\n",
        "\n",
        "      if copy[i].issubset(copy[j]): #if j absorbs i, then j is not a prime implicant\n",
        "        changed_input.append(original[j])\n",
        "        copy[j] = ''\n",
        "      elif copy[j].issubset(copy[i]): #if j is absorbed by i, then i is not a prime implicant\n",
        "        changed_input.append(original[i])\n",
        "        copy[i] = ''\n",
        "        break; #leave inner loop if i has absorbed another implicant\n",
        "    \n",
        "    if(copy[i] != ''): #if i has not absorbed any other implicant, it is a prime so add it to output\n",
        "      output.append(original[i]) \n",
        "\n",
        "  return (changed_input, output)\n",
        "        \n",
        "\n",
        "#Receives a list of implicants as input, and the chance of removing an edge (regulator).\n",
        "#A (repeated) literal in an implicant represents a signed edge (regulator). For all literals, roll the die \n",
        "#and see if the respective edge is removed or not.\n",
        "def edgeRemove(implicants, chance):\n",
        "  output = implicants.copy()\n",
        "  changed_input = []\n",
        "\n",
        "  #print(implicants)\n",
        "  all_literals = [i.strip(\"()\").split('&') for i in implicants]\n",
        "  #print(all_literals)\n",
        "  flatten_literals = [item for sublist in all_literals for item in sublist]\n",
        "  #print(flatten_literals)\n",
        "  literals = list(dict.fromkeys(flatten_literals))\n",
        "  #print(literals)\n",
        "\n",
        "  for l in literals:\n",
        "    roll = random.random()\n",
        "    #print(\"Rolled: \" + str(roll))\n",
        "    if(roll <= chance):\n",
        "      #print(\"Removing regulator \"+l)\n",
        "      changed_input.append(l)\n",
        "\n",
        "      for i in range(0, len(implicants)): #For each implicant\n",
        "\n",
        "        replaced = output[i].replace(\"&\"+l, '') #Start by seeing if literal to remove is the last term of a conjunction\n",
        "        if(replaced == output[i]):\n",
        "          replaced = output[i].replace(l+\"&\", '') #If it wasn't, then check to see if it is the first term of a conjunction\n",
        "          if(replaced == output[i]):\n",
        "            replaced = output[i].replace(l, '') #If it is neither, then the literal occurs alone and can be removed without leaving behind a trailing &\n",
        "        output[i] = replaced\n",
        "\n",
        "  output = primesOnly(output)[1]\n",
        "  return (changed_input, output)\n",
        "\n",
        "#Receives a list of implicants as input, and the chance of changing an edge's sign.\n",
        "#A (repeated) literal in an implicant represents a signed edge. For all literals, roll the die \n",
        "#and see if the sign of the respective edge changes or not.\n",
        "def edgeFlip(implicants, chance):\n",
        "  output = implicants.copy()\n",
        "  changed_input = []\n",
        "\n",
        "  #print(implicants)\n",
        "  all_literals = [i.strip(\"()\").split('&') for i in implicants]\n",
        "  #print(all_literals)\n",
        "  flatten_literals = [item for sublist in all_literals for item in sublist]\n",
        "  #print(flatten_literals)\n",
        "  literals = list(dict.fromkeys(flatten_literals))\n",
        "  #print(literals)\n",
        "\n",
        "  for l in literals:\n",
        "    roll = random.random()\n",
        "    #print(\"Rolled: \" + str(roll))\n",
        "    if(roll <= chance):\n",
        "      #print(\"Changing sign of \"+l)\n",
        "      changed_input.append(l)\n",
        "      negated = l.count('!')\n",
        "      #print(negated)\n",
        "\n",
        "      if(negated%2 != 0): #if the literal is negated\n",
        "        output = [i.replace(l, l.replace('!','')) for i in output]\n",
        "      else:\n",
        "        output = [i.replace(l, \"!\"+l) for i in output]\n",
        "        #print(\"Check it out: \" + str(output))\n",
        "\n",
        "  return (changed_input, output)\n",
        "        \n",
        "\n",
        "\n",
        "for filename in glob.glob(os.path.join(path, '8.bnet')):\n",
        "  with open(os.path.join(os.getcwd(), filename), 'r') as f:\n",
        "    print(filename)\n",
        "\n",
        "    lines = [s.strip() for s in f.readlines()]\n",
        "    \n",
        "    for regfun in lines:\n",
        "      full = regfun.split(',')\n",
        "      print(\"Full function: \"+str(full))\n",
        "      implicants = [i.replace(\" \", \"\") for i in full[1].split('|')]\n",
        "      print(\"Implicants \"+full[0]+\": \"+str(implicants))\n",
        "\n",
        "      removed_edges = edgeRemove(implicants, 0.5)\n",
        "      if(len(removed_edges[0]) > 0):\n",
        "        print(\">Removed edges from \"+str(removed_edges[0])+\" to \"+ full[0] + \". New implicants: \"+str(removed_edges[1]))\n",
        "      else:\n",
        "        print(\"No edges removed\")\n",
        "\n",
        "      flipped_implicants = edgeFlip(implicants, 0.1)\n",
        "      if(len(flipped_implicants[0]) > 0):\n",
        "        print(\">Flipped literals \"+str(flipped_implicants[0])+\". New implicants: \"+str(flipped_implicants[1]))\n",
        "      else:\n",
        "        print(\"No signs flipped\")\n",
        "\n",
        "    "
      ],
      "metadata": {
        "colab": {
          "base_uri": "https://localhost:8080/"
        },
        "id": "BH3FdmAK4gwL",
        "outputId": "e54a7ae3-40c0-4a76-86b3-e164696c7f49"
      },
      "execution_count": 17,
      "outputs": [
        {
          "output_type": "stream",
          "name": "stdout",
          "text": [
            "./simple_models/8.bnet\n",
            "Full function: ['v1', '   (!v2 & v3) | (!v4 & v3) | (!v5 & v3) | (!v6 & v3)']\n",
            "Implicants v1: ['(!v2&v3)', '(!v4&v3)', '(!v5&v3)', '(!v6&v3)']\n",
            ">Removed edges from ['!v4', '!v5'] to v1. New implicants: ['(v3)']\n",
            "No change\n",
            "Full function: ['v2', '   !v7']\n",
            "Implicants v2: ['!v7']\n",
            ">Removed edges from ['!v7'] to v2. New implicants: ['']\n",
            "No change\n",
            "Full function: ['v3', '   !v8']\n",
            "Implicants v3: ['!v8']\n",
            "No change\n",
            "No change\n",
            "Full function: ['v4', '   !v9']\n",
            "Implicants v4: ['!v9']\n",
            ">Removed edges from ['!v9'] to v4. New implicants: ['']\n",
            "No change\n",
            "Full function: ['v8', '   !v8 & !v6']\n",
            "Implicants v8: ['!v8&!v6']\n",
            "No change\n",
            "No change\n",
            "Full function: ['v9', '   !v9 & v5']\n",
            "Implicants v9: ['!v9&v5']\n",
            ">Removed edges from ['!v9'] to v9. New implicants: ['v5']\n",
            "No change\n"
          ]
        }
      ]
    },
    {
      "cell_type": "code",
      "source": [
        "!python corruption.py"
      ],
      "metadata": {
        "id": "Yx7JqSIz4wek",
        "colab": {
          "base_uri": "https://localhost:8080/"
        },
        "outputId": "0b2cfbc3-9a7b-4afc-9907-43e2431fac89"
      },
      "execution_count": 7,
      "outputs": [
        {
          "output_type": "stream",
          "name": "stdout",
          "text": [
            "./simple_models/8.bnet\n",
            "Full function: ['v1', '   (!v2 & v3) | (!v4 & v3) | (!v5 & v3) | (!v6 & v3)']\n",
            "Implicants v1: ['(!v2&v3)', '(!v4&v3)', '(!v5&v3)', '(!v6&v3)']\n",
            "No change\n",
            "Full function: ['v2', '   !v7']\n",
            "Implicants v2: ['!v7']\n",
            "No change\n",
            "Full function: ['v3', '   !v8']\n",
            "Implicants v3: ['!v8']\n",
            "No change\n",
            "Full function: ['v4', '   !v9']\n",
            "Implicants v4: ['!v9']\n",
            "No change\n",
            "Full function: ['v8', '   !v8 & !v6']\n",
            "Implicants v8: ['!v8&!v6']\n",
            "No change\n",
            "Full function: ['v9', '   !v9 & v5']\n",
            "Implicants v9: ['!v9&v5']\n",
            "No change\n"
          ]
        }
      ]
    }
  ]
}