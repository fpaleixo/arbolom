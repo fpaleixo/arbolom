{
  "nbformat": 4,
  "nbformat_minor": 0,
  "metadata": {
    "colab": {
      "name": "ARBoLoM.ipynb",
      "provenance": [],
      "collapsed_sections": [],
      "mount_file_id": "1c6RwN8jmnPvHOZNoRPwo8gChIVhKZzzL",
      "authorship_tag": "ABX9TyNcI2DCNSw19ivcgdnbBnxh",
      "include_colab_link": true
    },
    "kernelspec": {
      "name": "python3",
      "display_name": "Python 3"
    },
    "language_info": {
      "name": "python"
    }
  },
  "cells": [
    {
      "cell_type": "markdown",
      "metadata": {
        "id": "view-in-github",
        "colab_type": "text"
      },
      "source": [
        "<a href=\"https://colab.research.google.com/github/fpaleixo/arbolom/blob/main/ARBoLoM.ipynb\" target=\"_parent\"><img src=\"https://colab.research.google.com/assets/colab-badge.svg\" alt=\"Open In Colab\"/></a>"
      ]
    },
    {
      "cell_type": "markdown",
      "source": [
        "# ARBoLoM - ASP Revision of Boolean Logical Models"
      ],
      "metadata": {
        "id": "LZUu7vZojXhQ"
      }
    },
    {
      "cell_type": "markdown",
      "source": [
        "## - Goal\n",
        "\n",
        "The ARBoLoM tool aims to automate the revision of Boolean logical models, with fully Answer Set Programming-based consistency checking and repair algorithms."
      ],
      "metadata": {
        "id": "p5qQ3zaekYbX"
      }
    },
    {
      "cell_type": "markdown",
      "source": [
        "# Directory set-up & installing clingo "
      ],
      "metadata": {
        "id": "xBkePQxnjiRC"
      }
    },
    {
      "cell_type": "code",
      "source": [
        "#ARBoLoM directory setup, make sure to set it to the arbolom folder (%cd \".../arbolom\")\n",
        "%cd \"/content/drive/MyDrive/FCT/5o ano/2o semestre/arbolom\""
      ],
      "metadata": {
        "id": "t_P7xEVJkvEu"
      },
      "execution_count": null,
      "outputs": []
    },
    {
      "cell_type": "code",
      "source": [
        "#Install clingo\n",
        "!pip install clingo"
      ],
      "metadata": {
        "id": "KxtdlXxPkD8b",
        "colab": {
          "base_uri": "https://localhost:8080/"
        },
        "outputId": "f8e7e03b-3ff5-436a-a45c-7f3f773fc956"
      },
      "execution_count": 1,
      "outputs": [
        {
          "output_type": "stream",
          "name": "stdout",
          "text": [
            "Collecting clingo\n",
            "  Downloading clingo-5.5.1-cp37-cp37m-manylinux_2_17_x86_64.manylinux2014_x86_64.whl (2.2 MB)\n",
            "\u001b[K     |████████████████████████████████| 2.2 MB 5.2 MB/s \n",
            "\u001b[?25hRequirement already satisfied: cffi in /usr/local/lib/python3.7/dist-packages (from clingo) (1.15.0)\n",
            "Requirement already satisfied: pycparser in /usr/local/lib/python3.7/dist-packages (from cffi->clingo) (2.21)\n",
            "Installing collected packages: clingo\n",
            "Successfully installed clingo-5.5.1\n"
          ]
        }
      ]
    },
    {
      "cell_type": "markdown",
      "source": [
        "# Running scripts"
      ],
      "metadata": {
        "id": "iuSq6cCVkF_a"
      }
    },
    {
      "cell_type": "code",
      "source": [
        "#Usage: $python corruption.py -f (FILENAME) -op (OPERATIONS) -(O)p (PROBABILITY)\n",
        "#Variables: \n",
        "#FILENAME -> Path of file inside simple models folder to corrupt.\n",
        "#OPERATIONS -> A string with one (or more) specific characters, denoting which corruptions to apply. These characters are 'f','e','r' and 'a'. 'fera' would be the full string, representing that (f)unction change, (e)dge flip, edge (r)emove and edge (a)dd will all be applied.\n",
        "#O -> A character that can take one of four possible values: 'f','e','r' and 'a' (followed by 'p'). -fp would change the probability of function change to occur, -ep of edge removal, etc. The argument that uses this O variable is an optional one.\n",
        "#PROBABILITY -> A float from 0.0 to 1.0 denoting the probability of a given corruption to occur. For example, -ap 0.5 would change the add edge operation's probability to 50%\n",
        "\n",
        "!python corruption.py -op era -ep 0.5 -rp 0.5 -ap 0.5 -f \"./simple_models/1.bnet\" "
      ],
      "metadata": {
        "id": "Yx7JqSIz4wek"
      },
      "execution_count": null,
      "outputs": []
    },
    {
      "cell_type": "code",
      "source": [
        "#Usage: $python conversion.py -f (FILENAME) -s (SAVE_DIRECTORY)\n",
        "#Optional flags:\n",
        "#-s -> Path of directory to save converted file (default is ./lp_models/corrupted/(name_of_file))\n",
        "#Variables: \n",
        "#FILENAME -> Path of file containing Boolean model in the BCF format to convert to ASP.\n",
        "#SAVE_DIRECTORY -> Path of directory to save converted model to.\n",
        "\n",
        "!python conversion.py -f \"./simple_models/corrupted/1/1-corrupted-era.bnet\""
      ],
      "metadata": {
        "id": "RvcaVZlkbPy7"
      },
      "execution_count": null,
      "outputs": []
    },
    {
      "cell_type": "code",
      "source": [
        "#Usage: $python gen_observations.py -f (FILENAME) -async -e (NUMBER OF EXPERIMENTS) -t (TIME STEPS) -as (NUMBER OF ANSWER SETS)\n",
        "#Optional flags:\n",
        "#-async -> Produces observations using the asynchronous mode.\n",
        "#Variables:\n",
        "#FILENAME -> Path of file containing Boolean model in the BCF format written in lp.\n",
        "#NUMBER OF EXPERIMENTS -> The number of experiments (sets of observations) to generate.\n",
        "#TIME STEPS -> The number of time steps to consider in each experiment.\n",
        "#NUMBER OF ANSWER SETS -> The number of answer sets to obtain.\n",
        "\n",
        "!python gen_observations.py -f \"./lp_models/4.lp\" -async -t 10 -e 2"
      ],
      "metadata": {
        "id": "QevrPuKGkBlw"
      },
      "execution_count": null,
      "outputs": []
    },
    {
      "cell_type": "code",
      "source": [
        "#Usage: $python consistency_checking.py -f (FILENAME) -o (OBSERVATIONS) -stable -sync -async \n",
        "#Optional flags:\n",
        "#-stable -> Performs consistency checking using stable state observations.\n",
        "#-sync -> Performs consistency checking using synchronous observations.\n",
        "#-async -> Performs consistency checking using asynchronous observations.\n",
        "#Variables:\n",
        "#FILENAME -> Path of file containing Boolean model in the BCF format written in lp.\n",
        "#OBSERVATIONS -> Path of file containing observations written in lp. \n",
        "\n",
        "!python consistency_checking.py -f \"./lp_models/corrupted/1/1-corrupted-era.lp\" -o \"./lp_models/obsv/tseries/async/1-obs.lp\" -async"
      ],
      "metadata": {
        "id": "jvqy753Rs4nJ"
      },
      "execution_count": null,
      "outputs": []
    },
    {
      "cell_type": "code",
      "source": [
        "#Work in progress using:\n",
        "#Inconsistent model: lp_models/corrupted/3/inconsistencies/3-corrupted-f-stable_inconsistency.lp\n",
        "#Observations: lp_models/obsv/sstate/3-obs.lp\n",
        "#Encoding: encodings/repairs/all_candidates_stable.lp\n",
        "\n",
        "!python repair.py"
      ],
      "metadata": {
        "colab": {
          "base_uri": "https://localhost:8080/"
        },
        "id": "8tk0pnzehHTR",
        "outputId": "9507c5f5-0e0e-4ca4-f6b0-c82a9f52e44d"
      },
      "execution_count": 8,
      "outputs": [
        {
          "output_type": "stream",
          "name": "stdout",
          "text": [
            "['generated_term(v3,1,v2,1)', 'generated_term(v3,1,v4,2)', 'generated_term(v3,1,v1,3)', 'generated_term(v3,2,v4,1)', 'generated_term(v3,2,v1,1)', 'generated_term(v3,2,v2,2)', 'generated_term(v3,2,v1,2)', 'generated_term(v3,2,v4,3)', 'generated_term(v3,2,v2,3)', 'generated_term(v3,3,v4,1)', 'generated_term(v3,3,v2,1)', 'generated_term(v3,3,v1,1)', 'not_contained_in(v3,1,1,2,1)', 'not_contained_in(v3,1,2,2,2)', 'not_contained_in(v3,1,3,2,3)']\n",
            "Generated terms found ✔️  They are:\n",
            "--Printing possible terms for function of v3--\n",
            "Level 1\n",
            "1:['v2'] | 2:['v4'] | 3:['v1'] | \n",
            "Level 2\n",
            "1:['v4', 'v1'] | 2:['v2', 'v1'] | 3:['v4', 'v2'] | \n",
            "Level 3\n",
            "1:['v4', 'v2', 'v1'] | \n",
            "Other atoms found ✔️  They are:\n",
            "['not_contained_in(v3,1,1,2,1)', 'not_contained_in(v3,1,2,2,2)', 'not_contained_in(v3,1,3,2,3)']\n"
          ]
        }
      ]
    }
  ]
}