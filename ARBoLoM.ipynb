{
  "nbformat": 4,
  "nbformat_minor": 0,
  "metadata": {
    "colab": {
      "name": "ARBoLoM.ipynb",
      "provenance": [],
      "collapsed_sections": [],
      "include_colab_link": true
    },
    "kernelspec": {
      "name": "python3",
      "display_name": "Python 3"
    },
    "language_info": {
      "name": "python"
    }
  },
  "cells": [
    {
      "cell_type": "markdown",
      "metadata": {
        "id": "view-in-github",
        "colab_type": "text"
      },
      "source": [
        "<a href=\"https://colab.research.google.com/github/fpaleixo/arbolom/blob/main/ARBoLoM.ipynb\" target=\"_parent\"><img src=\"https://colab.research.google.com/assets/colab-badge.svg\" alt=\"Open In Colab\"/></a>"
      ]
    },
    {
      "cell_type": "markdown",
      "source": [
        "# ARBoLoM - ASP Revision of Boolean Logical Models"
      ],
      "metadata": {
        "id": "LZUu7vZojXhQ"
      }
    },
    {
      "cell_type": "markdown",
      "source": [
        "## Objective\n",
        "\n",
        "The ARBoLoM tool aims to automate the revision of Boolean logical models, with fully Answer Set Programming-based consistency checking and repair algorithms."
      ],
      "metadata": {
        "id": "p5qQ3zaekYbX"
      }
    },
    {
      "cell_type": "markdown",
      "source": [
        "## Quick testing\n",
        "For quick testing, the models in the `simple_models` folder may be used. These are small, hand-made examples of hypothethical biological networks. Due to their compact nature, one can use them to perform quick tests with the scripts, or to manually verify the correctness of the results produced by said scripts.\n",
        "\n",
        "Generally, the models will be used in the following fashion:\n",
        "\n",
        "\n",
        "\n",
        "*   One of the models is chosen to perform tests on.\n",
        "*   The `corruption.py` script can then be used to create a \"wrong\" version of this model.\n",
        "* `conversion.py` is ran on both models, to convert them to .lp format.\n",
        "* `gen_observations.py` is ran on the original .lp model, to generate observations that can be used to check the correctness of the wrong model.\n",
        "* `revision.py` is ran on the corrupted model alongisde the generated observations, to revise it. \n",
        "\n",
        "Note: Alternatively, instead of using `revision.py`, `consistency_checking.py` can also be used on the inconsistent .lp model, alongside the observations generated from the original model. This script will tell you if the model is consistent with the given observations or not. In case it is not, the inconsistencies generated can then be given to `repair.py`, which will repair the inconsistent model (`revision.py` simply streamlines this process, doing it all at once).\n"
      ],
      "metadata": {
        "id": "BXK6lph1ZSGA"
      }
    },
    {
      "cell_type": "markdown",
      "source": [
        "# Directory set-up & installing clingo "
      ],
      "metadata": {
        "id": "xBkePQxnjiRC"
      }
    },
    {
      "cell_type": "markdown",
      "source": [
        "## Directory set-up"
      ],
      "metadata": {
        "id": "pqraagSckI68"
      }
    },
    {
      "cell_type": "markdown",
      "source": [
        "**Method #1**: Connect to a Google Drive (run the two cells below)"
      ],
      "metadata": {
        "id": "fU_ZiY-tkeuB"
      }
    },
    {
      "cell_type": "code",
      "source": [
        "from google.colab import drive\n",
        "drive.mount('/content/drive')"
      ],
      "metadata": {
        "id": "XJonjAoRrO5D"
      },
      "execution_count": null,
      "outputs": []
    },
    {
      "cell_type": "code",
      "source": [
        "#ARBoLoM directory setup, make sure to set it to the arbolom folder (%cd \"/content/drive/.../arbolom\")\n",
        "%cd \"/content/drive/MyDrive/FCT/5o ano/2o semestre/arbolom\""
      ],
      "metadata": {
        "id": "t_P7xEVJkvEu"
      },
      "execution_count": null,
      "outputs": []
    },
    {
      "cell_type": "markdown",
      "source": [
        "**Method #2**: Upload the arbolom zip to Colab.\n",
        "\n",
        " To do this, zip the downloaded arbolom directory, upload the .zip to Colab, and use the `!unzip filename.zip` command below to unzip (replacing filename with the appropriate name)."
      ],
      "metadata": {
        "id": "6oo9xXMoaRRn"
      }
    },
    {
      "cell_type": "code",
      "source": [
        "!unzip arbolom-main.zip"
      ],
      "metadata": {
        "id": "fiCaHWM3jonq"
      },
      "execution_count": null,
      "outputs": []
    },
    {
      "cell_type": "code",
      "source": [
        "#ARBoLoM directory setup, make sure to set it to the arbolom folder (%cd \".../arbolom\")\n",
        "%cd \"/content/arbolom-main\""
      ],
      "metadata": {
        "id": "MxoND0uVjwQB"
      },
      "execution_count": null,
      "outputs": []
    },
    {
      "cell_type": "markdown",
      "source": [
        "## Installing clingo"
      ],
      "metadata": {
        "id": "3n_se0JjkQD3"
      }
    },
    {
      "cell_type": "code",
      "source": [
        "#Install clingo\n",
        "!pip install clingo"
      ],
      "metadata": {
        "id": "KxtdlXxPkD8b"
      },
      "execution_count": null,
      "outputs": []
    },
    {
      "cell_type": "markdown",
      "source": [
        "# Script Usage Example"
      ],
      "metadata": {
        "id": "iuSq6cCVkF_a"
      }
    },
    {
      "cell_type": "markdown",
      "source": [
        "In the example below, we will use the scripts to corrupt an existing .bnet model using `corruption.py` and convert that model to .lp format using `conversion.py`.\n",
        "\n",
        "We will then generate some observations from the original model in .lp format using `gen_observations.py`.\n",
        "\n",
        "After that, we will explore two ways of revising the model:\n",
        "\n",
        "1.   The general-use case, in which we simply use the `revision.py` script to perform both consistency-checking and repairs;\n",
        "2.   Perform the revision process in two steps, first by using `consistency_checking.py`\n",
        "(which will allow us to obtain a file with the inconsistencies), and then repair the model using that generated inconsistency file by using `repair.py`.\n",
        "\n",
        "Note that the example is meant to be run in order, as the first blocks of code will generate files that the next blocks of code will use.\n"
      ],
      "metadata": {
        "id": "oshHBQguks96"
      }
    },
    {
      "cell_type": "markdown",
      "source": [
        "## Corrupting a model, converting it to .lp format and generating observations for it."
      ],
      "metadata": {
        "id": "iLOeR-_UH4Uc"
      }
    },
    {
      "cell_type": "code",
      "source": [
        "#Usage: $python corruption.py -f (FILENAME) -op (OPERATIONS) -(O)p (PROBABILITY) -s (SAVE_PATH) -lp -bulk (INSTANCE_NO)\n",
        "\n",
        "#Required arguments:\n",
        "#-f -> The model to corrupt, given by the path in FILENAME.\n",
        "\n",
        "#Optional arguments:\n",
        "#-op -> Corruption operations to apply (all active by default).\n",
        "#(O)p -> Sets the probability of operation (O) occuring.\n",
        "#-s -> Saves the output in a custom directory.\n",
        "#-lp -> Converts the output to .lp directly.\n",
        "#-bulk -> Allows multiple corrupted instances to be created at once.\n",
        "\n",
        "#Variables: \n",
        "#FILENAME -> Path of file to corrupt.\n",
        "#OPERATIONS -> A string with one (or more) specific characters, denoting which \n",
        "# corruptions to apply. These characters are 'f','e','r' and 'a'. \n",
        "# 'fera' would be the full string, representing that (f)unction change, \n",
        "# (e)dge flip, edge (r)emove and edge (a)dd will all be applied.\n",
        "#O -> A character that can take one of four possible values: 'f','e','r' and 'a' \n",
        "# (followed by 'p'). -fp would change the probability of function change to \n",
        "# occur, -ep of edge removal, etc. The argument that uses this O variable is an \n",
        "# optional one.\n",
        "#PROBABILITY -> A float from 0.0 to 1.0 denoting the probability of a given \n",
        "# corruption to occur. For example, -ap 0.5 would change the add edge \n",
        "# operation's probability to 50%.\n",
        "#SAVE_PATH -> Path where the corrupted model will be saved in.\n",
        "#INSTANCE_NO -> Number of corrupted instances to generate.\n",
        "\n",
        "!python corruption.py -op era -ep 0.5 -rp 0.5 -ap 0.5 -f \"simple_models/1.bnet\" -s demo"
      ],
      "metadata": {
        "id": "Yx7JqSIz4wek"
      },
      "execution_count": null,
      "outputs": []
    },
    {
      "cell_type": "code",
      "source": [
        "#Usage: $python conversion.py -f (FILENAME) -s (SAVE_PATH)\n",
        "\n",
        "#Required arguments:\n",
        "#-f -> The model to convert, given by the path in FILENAME.\n",
        "\n",
        "#Optional arguments:\n",
        "#-s -> Saves the output in a custom directory.\n",
        "\n",
        "#Variables: \n",
        "#FILENAME -> Path of file containing Boolean model in the BCF format to \n",
        "#  convert to ASP.\n",
        "#SAVE_PATH -> Path of the directory to save the converted model.\n",
        "\n",
        "!python conversion.py -f \"demo/1-corrupted-era.bnet\" -s demo"
      ],
      "metadata": {
        "id": "RvcaVZlkbPy7"
      },
      "execution_count": null,
      "outputs": []
    },
    {
      "cell_type": "code",
      "source": [
        "#Usage: $python gen_observations.py -f (FILENAME) -async -e (NUMBER OF EXPERIMENTS) -t (TIME STEPS) -s (SAVE_PATH)\n",
        "\n",
        "#Required arguments:\n",
        "#-f -> The model to generate observations for, given by the path in FILENAME.\n",
        "\n",
        "#Optional arguments:\n",
        "#-e -> Number of experiments to generate (default is 2).\n",
        "#-t -> Number of time steps per experiment (default is 5).\n",
        "#-async -> Produces the observations using asynchronous mode (default is sync).\n",
        "#-s -> Saves the output in a custom directory.\n",
        "\n",
        "#Variables:\n",
        "#FILENAME -> Path of file containing Boolean model in the BCF format written in lp.\n",
        "#NUMBER OF EXPERIMENTS -> The number of experiments (sets of observations) to generate.\n",
        "#TIME STEPS -> The number of time steps to consider in each experiment.\n",
        "#SAVE_PATH -> Path of the directory to save the generated observations.\n",
        "\n",
        "\n",
        "!python gen_observations.py -f \"simple_models/lp/1.lp\" -t 20 -e 5 -s demo"
      ],
      "metadata": {
        "id": "QevrPuKGkBlw"
      },
      "execution_count": null,
      "outputs": []
    },
    {
      "cell_type": "markdown",
      "source": [
        "## 1. Revising the model using `revision.py`.\n",
        "\n"
      ],
      "metadata": {
        "id": "wx7VTyKjG0Ih"
      }
    },
    {
      "cell_type": "code",
      "source": [
        "#Usage: $python repair.py -f (FILENAME) -o (OBSERVATIONS) -stable -sync -async\n",
        "\n",
        "#Required arguments:\n",
        "#-f -> The model to revise.\n",
        "#-i -> The observations to use.\n",
        "\n",
        "#Optional arguments:\n",
        "#-stable -> Performs revision using stable state mode (default).\n",
        "#-sync -> Performs revision using synchronous mode.\n",
        "#-async -> Performs revision using asynchronous mode.\n",
        "\n",
        "#Variables:\n",
        "#FILENAME -> Path of file containing Boolean model in the BCF format\n",
        "# (can be in .bnet format, the model will automatically be converted to .lp)\n",
        "#OBSERVATIONS -> Path of file containing observations written in lp. \n",
        "\n",
        "!python revision.py -f \"demo/1-corrupted-era.bnet\"  -o \"demo/1-sync-obs.lp\" -sync"
      ],
      "metadata": {
        "id": "C8YwfbbfHI2T"
      },
      "execution_count": null,
      "outputs": []
    },
    {
      "cell_type": "markdown",
      "source": [
        "## 2. Revising the model using `consistency_checking.py` and `repair.py`."
      ],
      "metadata": {
        "id": "8iJ7ubyKHCkX"
      }
    },
    {
      "cell_type": "code",
      "source": [
        "#Usage: $python consistency_checking.py -f (FILENAME) -o (OBSERVATIONS) -stable -sync -async -s (SAVE_PATH)\n",
        "\n",
        "#Required arguments:\n",
        "#-f -> The model whose consistency will be checked.\n",
        "#-o -> Observations to use.\n",
        "\n",
        "#Optional arguments:\n",
        "#-stable -> Performs consistency checking using stable state mode (default).\n",
        "#-sync -> Performs consistency checking using synchronous mode.\n",
        "#-async -> Performs consistency checking using asynchronous mode.\n",
        "#-s -> Saves the output in a custom directory.\n",
        "\n",
        "#Variables:\n",
        "#FILENAME -> Path of file containing Boolean model in the BCF format written in lp.\n",
        "#OBSERVATIONS -> Path of file containing observations written in lp. \n",
        "#SAVE_PATH -> Path of directory to save inconsistencies to (if any exist).\n",
        "\n",
        "!python consistency_checking.py -f \"demo/1-corrupted-era.lp\" -o \"demo/1-sync-obs.lp\" -sync"
      ],
      "metadata": {
        "id": "jvqy753Rs4nJ"
      },
      "execution_count": null,
      "outputs": []
    },
    {
      "cell_type": "code",
      "source": [
        "#Usage: $python repair.py -f (FILENAME) -i (INCONSISTENCIES) -stable -sync -async\n",
        "\n",
        "#Required arguments:\n",
        "#-f -> The model to repair.\n",
        "#-i -> Inconsistencies obtained by consistency checking.\n",
        "\n",
        "#Optional arguments:\n",
        "#-stable -> Performs repairs using stable state observations (default).\n",
        "#-sync -> Performs repairs using synchronous observations.\n",
        "#-async -> Performs repairs using asynchronous observations.\n",
        "\n",
        "#Variables:\n",
        "#FILENAME -> Path of file containing Boolean model in the BCF format written in lp.\n",
        "#INCONSISTENCIES -> Path of file containing inconsistencies obtained from the consistency checking phase.\n",
        "\n",
        "!python repair.py -f \"demo/1-corrupted-era.lp\"  -i \"demo/inconsistencies/1-corrupted-era-sync_inconsistency.lp\" -sync"
      ],
      "metadata": {
        "id": "8tk0pnzehHTR"
      },
      "execution_count": null,
      "outputs": []
    }
  ]
}