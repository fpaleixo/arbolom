{
  "nbformat": 4,
  "nbformat_minor": 0,
  "metadata": {
    "colab": {
      "name": "ARBoLoM.ipynb",
      "provenance": [],
      "collapsed_sections": [],
      "mount_file_id": "1c6RwN8jmnPvHOZNoRPwo8gChIVhKZzzL",
      "authorship_tag": "ABX9TyNa5m4Z3Qmh1wucca8vN7u+",
      "include_colab_link": true
    },
    "kernelspec": {
      "name": "python3",
      "display_name": "Python 3"
    },
    "language_info": {
      "name": "python"
    }
  },
  "cells": [
    {
      "cell_type": "markdown",
      "metadata": {
        "id": "view-in-github",
        "colab_type": "text"
      },
      "source": [
        "<a href=\"https://colab.research.google.com/github/fpaleixo/arbolom/blob/main/ARBoLoM.ipynb\" target=\"_parent\"><img src=\"https://colab.research.google.com/assets/colab-badge.svg\" alt=\"Open In Colab\"/></a>"
      ]
    },
    {
      "cell_type": "code",
      "execution_count": null,
      "metadata": {
        "id": "xdnA6YSFinCs"
      },
      "outputs": [],
      "source": [
        "#@title ASP Revision of Boolean Logical Models\n",
        "\n",
        "#Notebook by Frederico Aleixo"
      ]
    },
    {
      "cell_type": "code",
      "source": [
        "#@title ARBoLoM directory setup\n",
        "%cd \"/content/drive/MyDrive/FCT/5o ano/2o semestre/arbolom\""
      ],
      "metadata": {
        "id": "t_P7xEVJkvEu",
        "colab": {
          "base_uri": "https://localhost:8080/"
        },
        "outputId": "074021f3-4df5-4172-dfba-71252d495818"
      },
      "execution_count": null,
      "outputs": [
        {
          "output_type": "stream",
          "name": "stdout",
          "text": [
            "/content/drive/MyDrive/FCT/5o ano/2o semestre/arbolom\n"
          ]
        }
      ]
    },
    {
      "cell_type": "code",
      "source": [
        "#Usage: !python corruption.py -f (FILENAME) -op (OPERATIONS) -(O)p (PROBABILITY)\n",
        "#Variables: \n",
        "#FILENAME - Name of the file with the model to corrupt\n",
        "#OPERATIONS - A string with one (or more) specific characters, denoting which corruptions to apply. These characters are 'f','e','r' and 'a'. 'fera' would be the full string, representing that (f)unction change, (e)dge flip, edge (r)emove and edge (a)dd will all be applied.\n",
        "#O - A character that can take one of four possible values: 'f','e','r' and 'a' (followed by 'p'). -fp would change the probability of function change to occur, -ep of edge removal, etc\n",
        "#PROBABILITY - A float from 0.0 to 1.0 denoting the probability of a given corruption to occur. For example, -ap 0.5 would change the add edge operation's probability to 50%\n",
        "\n",
        "!python corruption.py -op fra -f \"/content/drive/MyDrive/FCT/5o ano/2o semestre/arbolom/simple_models/9.bnet\" "
      ],
      "metadata": {
        "id": "Yx7JqSIz4wek"
      },
      "execution_count": null,
      "outputs": []
    },
    {
      "cell_type": "code",
      "source": [
        "#Usage: !python conversion.py -f (FILENAME)\n",
        "#Variables: \n",
        "#FILENAME - Path of file containing Boolean model in the BCF format to convert to ASP.\n",
        "!python conversion.py -f \"/content/drive/MyDrive/FCT/5o ano/2o semestre/arbolom/simple_models/9-corrupted (1).bnet\""
      ],
      "metadata": {
        "id": "RvcaVZlkbPy7"
      },
      "execution_count": null,
      "outputs": []
    }
  ]
}