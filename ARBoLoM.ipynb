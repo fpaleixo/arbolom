{
  "nbformat": 4,
  "nbformat_minor": 0,
  "metadata": {
    "colab": {
      "name": "ARBoLoM.ipynb",
      "provenance": [],
      "collapsed_sections": [],
      "mount_file_id": "1c6RwN8jmnPvHOZNoRPwo8gChIVhKZzzL",
      "authorship_tag": "ABX9TyPmL+zTInPMYuTHBcsLaJhB",
      "include_colab_link": true
    },
    "kernelspec": {
      "name": "python3",
      "display_name": "Python 3"
    },
    "language_info": {
      "name": "python"
    }
  },
  "cells": [
    {
      "cell_type": "markdown",
      "metadata": {
        "id": "view-in-github",
        "colab_type": "text"
      },
      "source": [
        "<a href=\"https://colab.research.google.com/github/fpaleixo/arbolom/blob/main/ARBoLoM.ipynb\" target=\"_parent\"><img src=\"https://colab.research.google.com/assets/colab-badge.svg\" alt=\"Open In Colab\"/></a>"
      ]
    },
    {
      "cell_type": "code",
      "execution_count": null,
      "metadata": {
        "id": "xdnA6YSFinCs",
        "cellView": "form"
      },
      "outputs": [],
      "source": [
        "#@title ASP Revision of Boolean Logical Models\n",
        "\n",
        "#Notebook by Frederico Aleixo"
      ]
    },
    {
      "cell_type": "code",
      "source": [
        "#@title ARBoLoM directory setup\n",
        "%cd \"/content/drive/MyDrive/FCT/5o ano/2o semestre/arbolom\""
      ],
      "metadata": {
        "id": "t_P7xEVJkvEu",
        "cellView": "form"
      },
      "execution_count": null,
      "outputs": []
    },
    {
      "cell_type": "code",
      "source": [
        "#@title Install clingo\n",
        "!pip install clingo"
      ],
      "metadata": {
        "cellView": "form",
        "id": "KxtdlXxPkD8b"
      },
      "execution_count": null,
      "outputs": []
    },
    {
      "cell_type": "code",
      "source": [
        "#Usage: $python corruption.py -f (FILENAME) -op (OPERATIONS) -(O)p (PROBABILITY)\n",
        "#Variables: \n",
        "#FILENAME -> Path of file inside simple models folder to corrupt.\n",
        "#OPERATIONS -> A string with one (or more) specific characters, denoting which corruptions to apply. These characters are 'f','e','r' and 'a'. 'fera' would be the full string, representing that (f)unction change, (e)dge flip, edge (r)emove and edge (a)dd will all be applied.\n",
        "#O -> A character that can take one of four possible values: 'f','e','r' and 'a' (followed by 'p'). -fp would change the probability of function change to occur, -ep of edge removal, etc. The argument that uses this O variable is an optional one.\n",
        "#PROBABILITY -> A float from 0.0 to 1.0 denoting the probability of a given corruption to occur. For example, -ap 0.5 would change the add edge operation's probability to 50%\n",
        "\n",
        "!python corruption.py -op era -ep 0.5 -rp 0.5 -ap 0.5 -f \"./simple_models/1.bnet\" "
      ],
      "metadata": {
        "id": "Yx7JqSIz4wek"
      },
      "execution_count": null,
      "outputs": []
    },
    {
      "cell_type": "code",
      "source": [
        "#Usage: $python conversion.py -f (FILENAME) -s (SAVE_DIRECTORY)\n",
        "#Optional flags:\n",
        "#-s -> Path of directory to save converted file (default is ./lp_models/corrupted/(name_of_file))\n",
        "#Variables: \n",
        "#FILENAME -> Path of file containing Boolean model in the BCF format to convert to ASP.\n",
        "#SAVE_DIRECTORY -> Path of directory to save converted model to.\n",
        "\n",
        "!python conversion.py -f \"./simple_models/corrupted/1/1-corrupted-era.bnet\""
      ],
      "metadata": {
        "id": "RvcaVZlkbPy7"
      },
      "execution_count": null,
      "outputs": []
    },
    {
      "cell_type": "code",
      "source": [
        "#Usage: $python gen_observations.py -f (FILENAME) -async -e (NUMBER OF EXPERIMENTS) -t (TIME STEPS) -as (NUMBER OF ANSWER SETS)\n",
        "#Optional flags:\n",
        "#-async -> Produces observations using the asynchronous mode.\n",
        "#Variables:\n",
        "#FILENAME -> Path of file containing Boolean model in the BCF format written in lp.\n",
        "#NUMBER OF EXPERIMENTS -> The number of experiments (sets of observations) to generate.\n",
        "#TIME STEPS -> The number of time steps to consider in each experiment.\n",
        "#NUMBER OF ANSWER SETS -> The number of answer sets to obtain.\n",
        "\n",
        "!python gen_observations.py -f \"./lp_models/4.lp\" -async -t 10 -e 2"
      ],
      "metadata": {
        "id": "QevrPuKGkBlw"
      },
      "execution_count": null,
      "outputs": []
    },
    {
      "cell_type": "code",
      "source": [
        "#Usage: $python consistency_checking.py -f (FILENAME) -o (OBSERVATIONS) -stable -sync -async \n",
        "#Optional flags:\n",
        "#-stable -> Performs consistency checking using stable state observations.\n",
        "#-sync -> Performs consistency checking using synchronous observations.\n",
        "#-async -> Performs consistency checking using asynchronous observations.\n",
        "#Variables:\n",
        "#FILENAME -> Path of file containing Boolean model in the BCF format written in lp.\n",
        "#OBSERVATIONS -> Path of file containing observations written in lp. \n",
        "\n",
        "!python consistency_checking.py -f \"./lp_models/corrupted/1/1-corrupted-era.lp\" -o \"./lp_models/obsv/tseries/async/1-obs.lp\" -async"
      ],
      "metadata": {
        "id": "jvqy753Rs4nJ"
      },
      "execution_count": null,
      "outputs": []
    }
  ]
}